{
 "cells": [
  {
   "cell_type": "code",
   "execution_count": 1,
   "metadata": {},
   "outputs": [],
   "source": [
    "## The cells below are for the README.md"
   ]
  },
  {
   "cell_type": "markdown",
   "metadata": {},
   "source": [
    "# Data_Bootcamp_Final_Project"
   ]
  },
  {
   "cell_type": "markdown",
   "metadata": {},
   "source": [
    "This project was completed by Cayley Boyd in partial fulfilment of ECON-UB.232 Section 2, Data Bootcamp, Fall 2018. I certify that the NYU Stern Honor Code applies to this project. In particular, I have: \n",
    "\n",
    "Clearly acknowledged the work and efforts of others when submitting written work as our own. The incorporation of the work of others–including but not limited to their ideas, data, creative expression, and direct quotations (which should be designated with quotation marks), or paraphrasing thereof– has been fully and appropriately referenced using notations both in the text and the bibliography.\n",
    "\n",
    "And I understand that: Submitting the same or substantially similar work in multiple courses, either in the same semester or in a different semester, without the express approval of all instructors is strictly forbidden. I acknowledge that a failure to abide by NYU Stern Honor Code will result in a failing grade for the project and course."
   ]
  },
  {
   "cell_type": "markdown",
   "metadata": {},
   "source": [
    "Project Description: Nature vs. Nurture-- our environment has long been thought to have an effect on our success in life. We decided to explore the relationship between household structures of children growing up and their likelihood to attain higher education. Looking at panel data across all 50 states, in addition the District of Columbia and Puerto Rico, across the years 2000-2017, we compared varying aspects of household structure with different levels of educational attainment on the state level. We were unable to draw a solid correlation between the two variables and suspect more influential ommitted variables are responsible for between-state differences in educational attainment."
   ]
  },
  {
   "cell_type": "code",
   "execution_count": 3,
   "metadata": {},
   "outputs": [],
   "source": [
    "## The cells below are for the intro in our actual project notebook; prior to importing code"
   ]
  },
  {
   "cell_type": "markdown",
   "metadata": {},
   "source": [
    "## Household Structure and Higher Education: An Analysis on The Impact of Childhood Living Arrangements on Attaining Higher Education"
   ]
  },
  {
   "cell_type": "markdown",
   "metadata": {},
   "source": [
    "Cayley Boyd, Meetali Gupta, Angela Yang<br>\n",
    "Data Bootcamp, Section 2 <br>\n",
    "Fall 2018"
   ]
  },
  {
   "cell_type": "markdown",
   "metadata": {},
   "source": [
    "## Abstract\n",
    "Nature vs. Nurture-- our environment has long been thought to have an effect on our success in life. We decided to explore the relationship between household structures of children growing up and their likelihood to attain higher education. Looking at panel data across all 50 states, in addition the District of Columbia and Puerto Rico, across the years 2000-2017, we compared varying aspects of household structure with different levels of educational attainment on the state level. We were unable to draw a solid correlation between the two variables and suspect more influential ommitted variables are responsible for between-state differences in educational attainment."
   ]
  },
  {
   "cell_type": "markdown",
   "metadata": {},
   "source": [
    "## Set Up"
   ]
  },
  {
   "cell_type": "markdown",
   "metadata": {},
   "source": [
    "### Downloading Packages"
   ]
  },
  {
   "cell_type": "code",
   "execution_count": 4,
   "metadata": {},
   "outputs": [],
   "source": [
    "# Prior to data"
   ]
  },
  {
   "cell_type": "markdown",
   "metadata": {},
   "source": [
    "### Retrieving Data "
   ]
  },
  {
   "cell_type": "markdown",
   "metadata": {},
   "source": [
    "We used ACS Household Structure Data pulled from the Kids Count Data Center for the years 200-2017 (with some data points omitted in this most recent year)."
   ]
  },
  {
   "cell_type": "code",
   "execution_count": 5,
   "metadata": {},
   "outputs": [],
   "source": [
    "# Data code here"
   ]
  },
  {
   "cell_type": "markdown",
   "metadata": {},
   "source": [
    "### Defining the Variables: Household Data"
   ]
  },
  {
   "cell_type": "markdown",
   "metadata": {},
   "source": [
    "Child Population by Household Type <br>\n",
    "Definition: Percent of total child  population in married-couple, father only, and mother only households.\n",
    "\n",
    "Children living with Neither Parent<br>\n",
    "Definition: The share of children under age 18 living in households where neither parent resides.\n",
    "\n",
    "\n",
    "Children living with cohabiting domestic partners<br>\n",
    "Definition: The share of children under age 18 living in households headed by cohabiting domestic partners.\n",
    "\n",
    "\n",
    "Children by household head’s educational attainment<br>\n",
    "Definition: The share of all children under age 18 living in households by the head of household’s educational attainment."
   ]
  },
  {
   "cell_type": "markdown",
   "metadata": {},
   "source": [
    "### Defining the Variables: Education Data"
   ]
  },
  {
   "cell_type": "markdown",
   "metadata": {},
   "source": [
    "Educational Attainment of population ages 25-34<br>\n",
    "Definition: The share of all adults ages 25 to 34 by educational attainment."
   ]
  },
  {
   "cell_type": "markdown",
   "metadata": {},
   "source": [
    "### Limitations with the Data\n",
    "Given that our investigating question sought to explore effects over a sustained time period, our data is not a perfect fit for our topic. However, given the sensitivity of child-related data on an individual level, we decided that exploring our question on a more aggregate level (state-specific) would be an effective way to test our hypothesis. <br>\n",
    "\n",
    "We also face challenges regarding inconsistencies in the data. Namely, that the dat over the 17 year time-span captures the 50 most populous cities of any given year, meaning that there is the possibility that different cities are accounted for in different years. Because the state-level data is an average, the percentages within a state do not always add up to 100%."
   ]
  },
  {
   "cell_type": "markdown",
   "metadata": {},
   "source": [
    "### Regression Analysis\n",
    "From the regression on the Merge_2000 dataframe, we can see that none of the independent variables (different household structures) significantly accounted for differences in higher education (proxied by High School Diploma), as the R-squared is only 20.9%. <br>\n",
    "It is interesting too how the only statistically significant relationships seems to be with mother-only FILL IN HERE"
   ]
  },
  {
   "cell_type": "code",
   "execution_count": 6,
   "metadata": {},
   "outputs": [],
   "source": [
    "# Insert the next section prior to the Education Level Table"
   ]
  },
  {
   "cell_type": "markdown",
   "metadata": {},
   "source": [
    "### State-Specific Analyses\n",
    "We sought to look more closely at states that seemed to be the top/bottom of each educational attainment standard (Not high school graduate, high school diploma, Associate's, Bachelor's, Graduate)<br>\n",
    "To do this, we averaged accross the entire time period (2000-2017) and averaged the data points related to each educational attainment level on a state level. "
   ]
  },
  {
   "cell_type": "code",
   "execution_count": 7,
   "metadata": {},
   "outputs": [],
   "source": [
    "# Insert next section following household type table"
   ]
  },
  {
   "cell_type": "markdown",
   "metadata": {},
   "source": [
    "As we can see with the table above, our hypothesis is essentially disproven, as the District of Columbia has the highest numbers of Bachelors/Graduate degrees and one of the lowest percentages of married-family households. <br>\n",
    "We believed that the stability of married-family househoulds would have a significant effect on influencing children to attain higher education. However, it appears that state-related factors (potentially region-specific occupations, religion, and other ommitted variables) must be responsibly for the distribution of educational attainment levels.<br>\n",
    "\n",
    "One important note is that our initial investigation of using High-School Diploma as a proxy for educational attainment was not effective for several reasons. Firstly, High-school Diploma did not include the percentage of people who attained education beyond a high-school diploma. A better proxy would have been the No High-school Diploma group, as this was an inclusive population of indviduals who did not finish high-school or anything beyond it."
   ]
  },
  {
   "cell_type": "code",
   "execution_count": 8,
   "metadata": {},
   "outputs": [],
   "source": [
    "# Below, by the 4 graphs"
   ]
  },
  {
   "cell_type": "markdown",
   "metadata": {},
   "source": [
    "One interesting insight from these plots are how in the District of Columbia, married couple households and mother only households have a strong inverse relationship, suggesting that shifts in household structure are largely related to these two structures-- when people aren't married, the children live with the mothers.<br>\n",
    "\n",
    "It is also interesting how Alaska has such high levels of Associate's degrees. We beleive this suggests that there is a region-specific need or educational opportunities are targetted at attaining this level of education. Similarly, the very low number of Associate's degrees in the District of Columbia suggest that this educational level is not very valuable for the area or possibly that opportunities to achieve this educational level are limited there. "
   ]
  },
  {
   "cell_type": "code",
   "execution_count": null,
   "metadata": {},
   "outputs": [],
   "source": []
  }
 ],
 "metadata": {
  "kernelspec": {
   "display_name": "Python 3",
   "language": "python",
   "name": "python3"
  },
  "language_info": {
   "codemirror_mode": {
    "name": "ipython",
    "version": 3
   },
   "file_extension": ".py",
   "mimetype": "text/x-python",
   "name": "python",
   "nbconvert_exporter": "python",
   "pygments_lexer": "ipython3",
   "version": "3.7.0"
  }
 },
 "nbformat": 4,
 "nbformat_minor": 2
}
